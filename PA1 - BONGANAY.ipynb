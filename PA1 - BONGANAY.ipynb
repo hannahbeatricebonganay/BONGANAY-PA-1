{
 "cells": [
  {
   "cell_type": "markdown",
   "id": "5bdfff4f-f50b-41ce-a334-6b74ccf8b0dc",
   "metadata": {},
   "source": [
    "1.) ALPHABET SOUP PROBLEM"
   ]
  },
  {
   "cell_type": "code",
   "execution_count": 13,
   "id": "71454051-c4b0-4a84-84af-b068bc47bed3",
   "metadata": {},
   "outputs": [
    {
     "name": "stdout",
     "output_type": "stream",
     "text": [
      "ALPHABET SOUP OUTPUT\n",
      "cinnorsu\n",
      "abinorsw\n"
     ]
    }
   ],
   "source": [
    "# Alphabet Soup Output only\n",
    "\n",
    "print(\"ALPHABET SOUP OUTPUT\")\n",
    "# define the alphabet soup function\n",
    "def alphabetSoup(word): \n",
    "    result = ''.join(sorted(word)) # sort word to alphabet \n",
    "    return result\n",
    "\n",
    "# results arranged like the alphabet\n",
    "print(alphabetSoup(\"unicorns\"))  \n",
    "print(alphabetSoup(\"rainbows\"))  "
   ]
  },
  {
   "cell_type": "markdown",
   "id": "2c5e2412-7366-41dd-999a-991d376c7ebf",
   "metadata": {},
   "source": [
    "2.) EMOTICON PROBLEM"
   ]
  },
  {
   "cell_type": "code",
   "execution_count": 11,
   "id": "7841fa62-df89-4100-99a6-14d8a1c23a88",
   "metadata": {},
   "outputs": [
    {
     "name": "stdout",
     "output_type": "stream",
     "text": [
      "Make me :) everytime I am :(( because I would like to :D all the time, it keeps me from being >:(.\n"
     ]
    }
   ],
   "source": [
    "# Emoticon Problem\n",
    "\n",
    "# define the emoticonsto replace corresponding word\n",
    "def emotify(sentence):\n",
    "    emoticons = {\n",
    "        \"smile\": \":)\",\n",
    "        \"sad\": \":((\",\n",
    "        \"grin\": \":D\",\n",
    "        \"mad\": \">:(\",\n",
    "    } \n",
    "# replace word with emoticon\n",
    "    for word, symbol in emoticons.items():\n",
    "        sentence = sentence.replace(word, symbol)\n",
    "        sentence = sentence.replace(word.lower(), symbol)\n",
    "        \n",
    "    return sentence\n",
    "\n",
    "# result as a sentence\n",
    "print(emotify(\"Make me smile everytime I am sad because I would like to grin all the time, it keeps me from being mad.\"))"
   ]
  },
  {
   "cell_type": "markdown",
   "id": "01e9d91d-cbf5-4160-b2a8-2fdff41fe62c",
   "metadata": {},
   "source": [
    "3.) UNPACKING LPROBLEM"
   ]
  },
  {
   "cell_type": "code",
   "execution_count": 8,
   "id": "22421515-d095-4bc4-9d1b-49676e36ac92",
   "metadata": {},
   "outputs": [
    {
     "name": "stdout",
     "output_type": "stream",
     "text": [
      "First: 12\n",
      "Middle: [13, 14, 15, 16, 17, 18]\n",
      "Last: 19\n"
     ]
    }
   ],
   "source": [
    "# Unpacking Output Only\n",
    "\n",
    "# make the list itself\n",
    "writeyourcodehere = [12, 13, 14, 15, 16, 17, 18, 19]\n",
    "\n",
    "# get elements\n",
    "First = writeyourcodehere[0]\n",
    "Last = writeyourcodehere[-1]\n",
    "Middle = writeyourcodehere[1:-1]\n",
    "\n",
    "# results \n",
    "print(\"First:\", First)\n",
    "print(\"Middle:\", Middle)\n",
    "print(\"Last:\", Last)"
   ]
  },
  {
   "cell_type": "code",
   "execution_count": null,
   "id": "8f7cce99-0ba5-4ab0-8c57-fa3c62812838",
   "metadata": {},
   "outputs": [],
   "source": []
  }
 ],
 "metadata": {
  "kernelspec": {
   "display_name": "Python [conda env:base] *",
   "language": "python",
   "name": "conda-base-py"
  },
  "language_info": {
   "codemirror_mode": {
    "name": "ipython",
    "version": 3
   },
   "file_extension": ".py",
   "mimetype": "text/x-python",
   "name": "python",
   "nbconvert_exporter": "python",
   "pygments_lexer": "ipython3",
   "version": "3.13.5"
  }
 },
 "nbformat": 4,
 "nbformat_minor": 5
}
